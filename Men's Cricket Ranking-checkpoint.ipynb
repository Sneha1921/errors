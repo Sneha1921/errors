{
 "cells": [
  {
   "cell_type": "code",
   "execution_count": 1,
   "id": "1d08f4fe",
   "metadata": {},
   "outputs": [],
   "source": [
    "from bs4 import BeautifulSoup\n",
    "import pandas as pd\n",
    "import requests"
   ]
  },
  {
   "cell_type": "code",
   "execution_count": 2,
   "id": "74a88d7e",
   "metadata": {},
   "outputs": [],
   "source": [
    "url = \"https://www.icc-cricket.com/rankings/mens/team-rankings/odi\"\n",
    "page5 = requests.get(url)\n",
    "\n",
    "soup5 = BeautifulSoup(page5.content)\n",
    "\n",
    "team  = soup5.find_all(\"span\",class_='u-hide-phablet')\n",
    "team_name = []\n",
    "for i in team:\n",
    "    team_name.append(i.text)"
   ]
  },
  {
   "cell_type": "code",
   "execution_count": 3,
   "id": "2e48d158",
   "metadata": {},
   "outputs": [
    {
     "data": {
      "text/plain": [
       "['New Zealand',\n",
       " 'England',\n",
       " 'Australia',\n",
       " 'India',\n",
       " 'South Africa',\n",
       " 'Pakistan',\n",
       " 'Bangladesh',\n",
       " 'West Indies',\n",
       " 'Sri Lanka',\n",
       " 'Afghanistan',\n",
       " 'Netherlands',\n",
       " 'Ireland',\n",
       " 'Scotland',\n",
       " 'Zimbabwe',\n",
       " 'Oman',\n",
       " 'Nepal',\n",
       " 'UAE',\n",
       " 'United States',\n",
       " 'Namibia',\n",
       " 'Papua New Guinea',\n",
       " '',\n",
       " '',\n",
       " '',\n",
       " '',\n",
       " '']"
      ]
     },
     "execution_count": 3,
     "metadata": {},
     "output_type": "execute_result"
    }
   ],
   "source": [
    "team_name"
   ]
  },
  {
   "cell_type": "code",
   "execution_count": 5,
   "id": "f0eee9d3",
   "metadata": {},
   "outputs": [
    {
     "data": {
      "text/plain": [
       "['17']"
      ]
     },
     "execution_count": 5,
     "metadata": {},
     "output_type": "execute_result"
    }
   ],
   "source": [
    "matches = []\n",
    "for i in soup5.find_all(\"td\",class_='rankings-block__banner--matches'):\n",
    "    matches.append(i.text)\n",
    "matches    "
   ]
  },
  {
   "cell_type": "code",
   "execution_count": 7,
   "id": "20a31f19",
   "metadata": {},
   "outputs": [
    {
     "data": {
      "text/plain": [
       "['32',\n",
       " '3,793',\n",
       " '28',\n",
       " '3,244',\n",
       " '32',\n",
       " '3,624',\n",
       " '25',\n",
       " '2,459',\n",
       " '27',\n",
       " '2,524',\n",
       " '30',\n",
       " '2,740',\n",
       " '30',\n",
       " '2,523',\n",
       " '32',\n",
       " '2,657',\n",
       " '17',\n",
       " '1,054',\n",
       " '7',\n",
       " '336',\n",
       " '25',\n",
       " '1,145',\n",
       " '10',\n",
       " '452',\n",
       " '20',\n",
       " '764',\n",
       " '14',\n",
       " '524',\n",
       " '11',\n",
       " '330',\n",
       " '9',\n",
       " '190',\n",
       " '14',\n",
       " '232',\n",
       " '6',\n",
       " '97',\n",
       " '13',\n",
       " '0']"
      ]
     },
     "execution_count": 7,
     "metadata": {},
     "output_type": "execute_result"
    }
   ],
   "source": [
    "new_list = []\n",
    "for i in soup5.find_all(\"td\",class_='table-body__cell u-center-text'):\n",
    "    new_list.append(i.text)\n",
    "new_list    "
   ]
  },
  {
   "cell_type": "code",
   "execution_count": 24,
   "id": "b191afed",
   "metadata": {},
   "outputs": [
    {
     "data": {
      "text/plain": [
       "['119',\n",
       " '113',\n",
       " '93',\n",
       " '84',\n",
       " '62',\n",
       " '46',\n",
       " '38',\n",
       " '30',\n",
       " '17',\n",
       " '119',\n",
       " '113',\n",
       " '93',\n",
       " '84',\n",
       " '62',\n",
       " '46',\n",
       " '38',\n",
       " '30',\n",
       " '17',\n",
       " '119',\n",
       " '113',\n",
       " '93',\n",
       " '84',\n",
       " '62',\n",
       " '46',\n",
       " '38',\n",
       " '30',\n",
       " '17']"
      ]
     },
     "execution_count": 24,
     "metadata": {},
     "output_type": "execute_result"
    }
   ],
   "source": [
    "for i in range(0,len(new_list)-1,2):\n",
    "    matches.append(new_list[i])\n",
    "matches    "
   ]
  },
  {
   "cell_type": "code",
   "execution_count": 25,
   "id": "09e02e22",
   "metadata": {},
   "outputs": [
    {
     "data": {
      "text/plain": [
       "['\\n                            121\\n                            \\n\\n']"
      ]
     },
     "execution_count": 25,
     "metadata": {},
     "output_type": "execute_result"
    }
   ],
   "source": [
    "rating = []\n",
    "for i in soup5.find_all(\"td\",class_=\"rankings-block__banner--rating u-text-right\"):\n",
    "    rating.append(i.text)\n",
    "rating    "
   ]
  },
  {
   "cell_type": "code",
   "execution_count": 26,
   "id": "3c57bbec",
   "metadata": {},
   "outputs": [
    {
     "data": {
      "text/plain": [
       "[]"
      ]
     },
     "execution_count": 26,
     "metadata": {},
     "output_type": "execute_result"
    }
   ],
   "source": [
    "new_list = []\n",
    "for i in soup5.find_all(\"td\",class_=\"table-body__cell u-text-right ratin\"):\n",
    "    new_list.append(i.text)\n",
    "new_list    "
   ]
  },
  {
   "cell_type": "code",
   "execution_count": null,
   "id": "c0db9431",
   "metadata": {},
   "outputs": [],
   "source": []
  }
 ],
 "metadata": {
  "kernelspec": {
   "display_name": "Python 3",
   "language": "python",
   "name": "python3"
  },
  "language_info": {
   "codemirror_mode": {
    "name": "ipython",
    "version": 3
   },
   "file_extension": ".py",
   "mimetype": "text/x-python",
   "name": "python",
   "nbconvert_exporter": "python",
   "pygments_lexer": "ipython3",
   "version": "3.8.8"
  }
 },
 "nbformat": 4,
 "nbformat_minor": 5
}
